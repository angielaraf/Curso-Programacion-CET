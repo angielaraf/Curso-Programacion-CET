{
  "nbformat": 4,
  "nbformat_minor": 0,
  "metadata": {
    "colab": {
      "provenance": []
    },
    "kernelspec": {
      "name": "python3",
      "display_name": "Python 3"
    },
    "language_info": {
      "name": "python"
    }
  },
  "cells": [
    {
      "cell_type": "markdown",
      "source": [
        "**Operadores matemáticos en Python**"
      ],
      "metadata": {
        "id": "KgkwmcaATGLC"
      }
    },
    {
      "cell_type": "code",
      "source": [
        "num1 = 7\n",
        "num2 = 1\n",
        "res = num1 + num2\n",
        "print(res)"
      ],
      "metadata": {
        "colab": {
          "base_uri": "https://localhost:8080/"
        },
        "id": "ceJxyxG9TJpY",
        "outputId": "44eca3ce-98f4-4cdd-b9d9-b283fcb51392"
      },
      "execution_count": 1,
      "outputs": [
        {
          "output_type": "stream",
          "name": "stdout",
          "text": [
            "8\n"
          ]
        }
      ]
    },
    {
      "cell_type": "code",
      "source": [
        "num1= int(input('Digite el numero 1:'))\n",
        "num2 = int(input('Digite le numero 2:'))\n",
        "res = num1 + num2\n",
        "print('La suma entre', num1, 'y', num2, 'es', res)\n",
        "#print(f\"La suma entre {num1} y {num2} es {res}\")\n",
        "\n"
      ],
      "metadata": {
        "colab": {
          "base_uri": "https://localhost:8080/"
        },
        "id": "TemlihsnTUeP",
        "outputId": "87ce8468-1b68-4e6d-df55-1c3a3d3173d9"
      },
      "execution_count": 17,
      "outputs": [
        {
          "output_type": "stream",
          "name": "stdout",
          "text": [
            "Digite el numero 1:3\n",
            "Digite le numero 2:3\n",
            "La suma entre 3 y 3 es 6\n"
          ]
        }
      ]
    },
    {
      "cell_type": "markdown",
      "source": [
        "**Calculadora**"
      ],
      "metadata": {
        "id": "z2Bc4tl1WEs8"
      }
    },
    {
      "cell_type": "code",
      "source": [
        "num1= int(input('Digite el numero 1:'))\n",
        "num2 = int(input('Digite le numero 2:'))\n",
        "\n",
        "sum = num1 + num2\n",
        "res = num1 - num2\n",
        "mult = num1 * num2\n",
        "divi = num1 / num2\n",
        "\n",
        "print (\"El resultado de la SUMA es\", sum)\n",
        "print (\"El resultado de la RESTA es\", res)\n",
        "print (\"El resultado de la MULTIPLICACION es\", mult)\n",
        "print (\"El resultado de la DIVISION es\", divi)"
      ],
      "metadata": {
        "colab": {
          "base_uri": "https://localhost:8080/"
        },
        "id": "D-lJXQMYWHBy",
        "outputId": "2d11172d-a3a5-4ae6-93df-ee6661f94601"
      },
      "execution_count": 16,
      "outputs": [
        {
          "output_type": "stream",
          "name": "stdout",
          "text": [
            "Digite el numero 1:2\n",
            "Digite le numero 2:2\n",
            "El resultado de la SUMA es 4\n",
            "El resultado de la RESTA es 0\n",
            "El resultado de la MULTIPLICACION es 4\n",
            "El resultado de la DIVISION es 1.0\n"
          ]
        }
      ]
    },
    {
      "cell_type": "markdown",
      "source": [
        "EJERCICIO: Se recibe una venta por concepto de un producto se requiere aplicar el IVA (19%) y conocer el total a pagar con el IVA incluido"
      ],
      "metadata": {
        "id": "hD_aDEnPXOhU"
      }
    },
    {
      "cell_type": "code",
      "source": [
        "#variable para capturar la venta\n",
        "valorVenta = float(input(\"Cuanto fue el total de la compra:\" ))\n",
        "#calculo de valor iva\n",
        "iva = valorVenta * 0.19\n",
        "#calculo del total\n",
        "total = valorVenta + iva\n",
        "print ('El iva fue es igual a: ', iva, 'y el total a pagar es', total)"
      ],
      "metadata": {
        "colab": {
          "base_uri": "https://localhost:8080/"
        },
        "id": "jZi_TcZ_XdHI",
        "outputId": "97a5079a-f969-4c60-ba7e-7a28810d28ae"
      },
      "execution_count": 20,
      "outputs": [
        {
          "output_type": "stream",
          "name": "stdout",
          "text": [
            "Cuanto fue el total de la compra:10000\n",
            "El iva fue es igual a:  1900.0 y el total a pagar es 11900.0\n"
          ]
        }
      ]
    },
    {
      "cell_type": "markdown",
      "source": [
        "Se requiere conocer el promedio general de una materia que está dada por tres calificaciones:"
      ],
      "metadata": {
        "id": "FEnOBtkFcZom"
      }
    },
    {
      "cell_type": "code",
      "source": [
        "calificacion1 = float(input(\"Digite la calificacion 1: \"))\n",
        "calificacion2 = float(input(\"Digite la calificacion 2: \"))\n",
        "calificacion3 = float(input(\"Digite la calificacion 3: \"))\n",
        "prom = round((calificacion1 + calificacion2 + calificacion3) / 3,2)\n",
        "print (f\"El promedio es = {prom}\")"
      ],
      "metadata": {
        "colab": {
          "base_uri": "https://localhost:8080/"
        },
        "id": "OoizIUb3cf31",
        "outputId": "fd90f016-83df-4ded-b076-bbb188a2444e"
      },
      "execution_count": 24,
      "outputs": [
        {
          "output_type": "stream",
          "name": "stdout",
          "text": [
            "Digite la calificacion 1: 1.5\n",
            "Digite la calificacion 2: 2.5\n",
            "Digite la calificacion 3: 4\n",
            "El promedio es = 2.67\n"
          ]
        }
      ]
    },
    {
      "cell_type": "markdown",
      "source": [
        "**Taller Refuerzo**\n",
        "\n",
        "1. Un vendedor recibe un sueldo base mas un 10% extra por comision de sus ventas, el vendedor desea saber cuánto dinero obtendrá por concepto de comisiones por las tres ventas que realiza en el mes y el total que recibirá en el mes tomando en cuenta su sueldo base y comisiones."
      ],
      "metadata": {
        "id": "Mi8xEbqAdxSH"
      }
    },
    {
      "cell_type": "code",
      "source": [
        "sueldoBase = int(input('Ingresa el sueldo base: '))\n",
        "comision = round(sueldoBase * 0.10)\n",
        "numeroVentas = 3\n",
        "Total = round((sueldoBase + comision) * numeroVentas)\n",
        "print('El vendedor obtendrá', comision, 'de comision por cada venta, en total recibirá por las 3 ventas', Total, 'pesos')"
      ],
      "metadata": {
        "colab": {
          "base_uri": "https://localhost:8080/"
        },
        "id": "SZ9-M9WneRE6",
        "outputId": "af02dcde-9083-4090-e271-36ebdf3c2112"
      },
      "execution_count": 34,
      "outputs": [
        {
          "output_type": "stream",
          "name": "stdout",
          "text": [
            "Ingresa el sueldo base: 1000000\n",
            "El vendedor obtendrá 100000 de comision por cada venta, en total recibirá por las 3 ventas 3300000 pesos\n"
          ]
        }
      ]
    },
    {
      "cell_type": "markdown",
      "source": [
        "2. Una tienda ofrece un descuento del 15% sobre el total de la compra y un cliente desea saber cuanto deberá pagar finalmente por su compra."
      ],
      "metadata": {
        "id": "JlgkbUcDfvHE"
      }
    },
    {
      "cell_type": "code",
      "source": [
        "valorCompra = int(input('Ingresa el valor de la compra '))\n",
        "descuento = round(valorCompra * 0.15)\n",
        "total = round(valorCompra - descuento)\n",
        "print('El valor que debe pagar el cliente es', total)"
      ],
      "metadata": {
        "colab": {
          "base_uri": "https://localhost:8080/"
        },
        "id": "Gu1cO45Qf77d",
        "outputId": "0739e460-0317-427a-9cf8-f770f224719d"
      },
      "execution_count": 37,
      "outputs": [
        {
          "output_type": "stream",
          "name": "stdout",
          "text": [
            "Ingresa el valor de la compra 1000\n",
            "El valor que debe pagar el cliente es 850\n"
          ]
        }
      ]
    },
    {
      "cell_type": "markdown",
      "source": [
        "3. Un alumno desea saber cuál será su calificación final en la materia de algoritmos. Dicha calificación se compone de tres examenes parciales."
      ],
      "metadata": {
        "id": "uH3f9TPugkRT"
      }
    },
    {
      "cell_type": "code",
      "source": [
        "calificacion1 = float(input(\"Digite la calificacion 1: \"))\n",
        "calificacion2 = float(input(\"Digite la calificacion 2: \"))\n",
        "calificacion3 = float(input(\"Digite la calificacion 3: \"))\n",
        "prom = round((calificacion1 + calificacion2 + calificacion3) / 3,2)\n",
        "print (f\"La calificación de la materia de algoritmos es = {prom}\")"
      ],
      "metadata": {
        "colab": {
          "base_uri": "https://localhost:8080/"
        },
        "id": "LdZsO0xNgwfI",
        "outputId": "2946adef-201a-4b3b-e147-8c98309537b7"
      },
      "execution_count": 39,
      "outputs": [
        {
          "output_type": "stream",
          "name": "stdout",
          "text": [
            "Digite la calificacion 1: 1\n",
            "Digite la calificacion 2: 1\n",
            "Digite la calificacion 3: 1\n",
            "La calificación de la materia de algoritmos es = 1.0\n"
          ]
        }
      ]
    },
    {
      "cell_type": "markdown",
      "source": [
        "4. Un maestro desea saber que porcentaje de hombres y que porcentaje de mujeres hay en un grupo de estudiantes."
      ],
      "metadata": {
        "id": "B8hMeGzLg_N6"
      }
    },
    {
      "cell_type": "code",
      "source": [
        "grupo = int(input('Ingrese la cantidad de estudiantes que hay en el grupo '))\n",
        "mujeres = int(input('Ingrese la cantidad de mujeres que hay en el grupo '))\n",
        "hombres = int(input('Ingrese la cantidad de hombres que hay en el grupo '))\n",
        "porcentaje_mujeres = (grupo*mujeres)/100\n",
        "porcentaje_hombres = (grupo*hombres)/100\n",
        "print('El porcentaje de hombres es: ',porcentaje_hombres, \"%\")\n",
        "print('El porcentaje de mujeres es: ',porcentaje_mujeres, \"%\")"
      ],
      "metadata": {
        "colab": {
          "base_uri": "https://localhost:8080/"
        },
        "id": "KwAJbBgzhIUo",
        "outputId": "0ac6603a-f46b-4be3-c617-ff2650cd9d5b"
      },
      "execution_count": 44,
      "outputs": [
        {
          "output_type": "stream",
          "name": "stdout",
          "text": [
            "Ingrese la cantidad de estudiantes que hay en el grupo 100\n",
            "Ingrese la cantidad de mujeres que hay en el grupo 10\n",
            "Ingrese la cantidad de hombres que hay en el grupo 90\n",
            "El porcentaje de hombres es:  90.0 %\n",
            "El porcentaje de mujeres es:  10.0 %\n"
          ]
        }
      ]
    }
  ]
}